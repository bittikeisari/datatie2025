{
 "cells": [
  {
   "cell_type": "markdown",
   "metadata": {},
   "source": [
    "## Data transformation\n",
    "\n",
    "This is the second automatically graded exercise for JODA. The objective here is to get our hands dirty with data. \n",
    "\n",
    "The context of this particular analysis is a fictional company that routinely runs different machine learning operations. \n",
    "\n",
    "We have generated a dataset that has the following columns or properties (to be engineered into features):\n",
    "\n",
    "* Date\n",
    "* Department\n",
    "* ML Task ID\n",
    "* ML Method\n",
    "* Task Category\n",
    "* Model Complexity (Parameters)\n",
    "* Training Data Size (GB)\n",
    "* Training Duration (Hours)\n",
    "* Hardware Used\n",
    "* Energy Consumption (kWh)\n",
    "* CO2 Emissions (Kg)\n",
    "* Cloud Provider\n",
    "\n",
    "Moreover, there is a secondary dataset that includes information about the energy sources for the different cloud providers:\n",
    "\n",
    "* Cloud Provider    \n",
    "* Green Energy\n"
   ]
  },
  {
   "cell_type": "markdown",
   "metadata": {},
   "source": [
    "TODO: Install the required packages using requirements.txt or individually\n",
    "\n",
    "TODO: Import the needed packages   "
   ]
  },
  {
   "cell_type": "code",
   "execution_count": 246,
   "metadata": {},
   "outputs": [],
   "source": [
    "import pandas as pd\n",
    "import os "
   ]
  },
  {
   "cell_type": "markdown",
   "metadata": {},
   "source": [
    "TODO: Read the two data files. **Please note that the data files will be available under the data folder when running the grader.**"
   ]
  },
  {
   "cell_type": "code",
   "execution_count": 247,
   "metadata": {},
   "outputs": [
    {
     "name": "stdout",
     "output_type": "stream",
     "text": [
      "  Cloud Provider Green Energy\n",
      "0      CloudTech      Unknown\n",
      "1         SkyNet      Unknown\n",
      "2     DataNimbus      Unknown\n",
      "3   EtherCompute        Green\n",
      "4   VirtualStack       Hybrid\n"
     ]
    },
    {
     "data": {
      "text/html": [
       "<div>\n",
       "<style scoped>\n",
       "    .dataframe tbody tr th:only-of-type {\n",
       "        vertical-align: middle;\n",
       "    }\n",
       "\n",
       "    .dataframe tbody tr th {\n",
       "        vertical-align: top;\n",
       "    }\n",
       "\n",
       "    .dataframe thead th {\n",
       "        text-align: right;\n",
       "    }\n",
       "</style>\n",
       "<table border=\"1\" class=\"dataframe\">\n",
       "  <thead>\n",
       "    <tr style=\"text-align: right;\">\n",
       "      <th></th>\n",
       "      <th>Date</th>\n",
       "      <th>Department</th>\n",
       "      <th>ML Task ID</th>\n",
       "      <th>ML Method</th>\n",
       "      <th>Task Category</th>\n",
       "      <th>Model Complexity (Parameters)</th>\n",
       "      <th>Training Data Size (GB)</th>\n",
       "      <th>Training Duration (Hours)</th>\n",
       "      <th>Hardware Used</th>\n",
       "      <th>Energy Consumption (kWh)</th>\n",
       "      <th>CO2 Emissions (Kg)</th>\n",
       "      <th>Cloud Provider</th>\n",
       "    </tr>\n",
       "  </thead>\n",
       "  <tbody>\n",
       "    <tr>\n",
       "      <th>0</th>\n",
       "      <td>2024-02-01</td>\n",
       "      <td>Marketing</td>\n",
       "      <td>Task_1</td>\n",
       "      <td>RNN</td>\n",
       "      <td>Image Classification</td>\n",
       "      <td>2.008306e+06</td>\n",
       "      <td>44.885179</td>\n",
       "      <td>11.437543</td>\n",
       "      <td>CPU</td>\n",
       "      <td>150.145641</td>\n",
       "      <td>60.058256</td>\n",
       "      <td>EtherCompute</td>\n",
       "    </tr>\n",
       "    <tr>\n",
       "      <th>1</th>\n",
       "      <td>2024-02-01</td>\n",
       "      <td>Operations</td>\n",
       "      <td>Task_2</td>\n",
       "      <td>Linear Regression</td>\n",
       "      <td>Regression</td>\n",
       "      <td>1.053744e+03</td>\n",
       "      <td>12.288902</td>\n",
       "      <td>0.994852</td>\n",
       "      <td>TPU</td>\n",
       "      <td>12.260144</td>\n",
       "      <td>4.904058</td>\n",
       "      <td>CloudTech</td>\n",
       "    </tr>\n",
       "    <tr>\n",
       "      <th>2</th>\n",
       "      <td>2024-02-01</td>\n",
       "      <td>R&amp;D</td>\n",
       "      <td>Task_3</td>\n",
       "      <td>Decision Tree</td>\n",
       "      <td>Machine Translation</td>\n",
       "      <td>1.098484e+03</td>\n",
       "      <td>127.561567</td>\n",
       "      <td>1.903623</td>\n",
       "      <td>CPU</td>\n",
       "      <td>27.869589</td>\n",
       "      <td>11.147836</td>\n",
       "      <td>CloudTech</td>\n",
       "    </tr>\n",
       "    <tr>\n",
       "      <th>3</th>\n",
       "      <td>2024-02-01</td>\n",
       "      <td>Customer Support</td>\n",
       "      <td>Task_4</td>\n",
       "      <td>Decision Tree</td>\n",
       "      <td>Text Generation</td>\n",
       "      <td>9.131620e+02</td>\n",
       "      <td>15.563152</td>\n",
       "      <td>2.348526</td>\n",
       "      <td>CPU</td>\n",
       "      <td>24.124306</td>\n",
       "      <td>9.649722</td>\n",
       "      <td>VirtualStack</td>\n",
       "    </tr>\n",
       "    <tr>\n",
       "      <th>4</th>\n",
       "      <td>2024-02-02</td>\n",
       "      <td>Finance</td>\n",
       "      <td>Task_5</td>\n",
       "      <td>Transformer</td>\n",
       "      <td>Clustering</td>\n",
       "      <td>8.023062e+06</td>\n",
       "      <td>4.043882</td>\n",
       "      <td>44.420819</td>\n",
       "      <td>TPU</td>\n",
       "      <td>559.037179</td>\n",
       "      <td>223.614871</td>\n",
       "      <td>DataNimbus</td>\n",
       "    </tr>\n",
       "  </tbody>\n",
       "</table>\n",
       "</div>"
      ],
      "text/plain": [
       "         Date        Department ML Task ID          ML Method  \\\n",
       "0  2024-02-01         Marketing     Task_1                RNN   \n",
       "1  2024-02-01        Operations     Task_2  Linear Regression   \n",
       "2  2024-02-01               R&D     Task_3      Decision Tree   \n",
       "3  2024-02-01  Customer Support     Task_4      Decision Tree   \n",
       "4  2024-02-02           Finance     Task_5        Transformer   \n",
       "\n",
       "          Task Category  Model Complexity (Parameters)  \\\n",
       "0  Image Classification                   2.008306e+06   \n",
       "1            Regression                   1.053744e+03   \n",
       "2   Machine Translation                   1.098484e+03   \n",
       "3       Text Generation                   9.131620e+02   \n",
       "4            Clustering                   8.023062e+06   \n",
       "\n",
       "   Training Data Size (GB)  Training Duration (Hours) Hardware Used  \\\n",
       "0                44.885179                  11.437543           CPU   \n",
       "1                12.288902                   0.994852           TPU   \n",
       "2               127.561567                   1.903623           CPU   \n",
       "3                15.563152                   2.348526           CPU   \n",
       "4                 4.043882                  44.420819           TPU   \n",
       "\n",
       "   Energy Consumption (kWh)  CO2 Emissions (Kg) Cloud Provider  \n",
       "0                150.145641           60.058256   EtherCompute  \n",
       "1                 12.260144            4.904058      CloudTech  \n",
       "2                 27.869589           11.147836      CloudTech  \n",
       "3                 24.124306            9.649722   VirtualStack  \n",
       "4                559.037179          223.614871     DataNimbus  "
      ]
     },
     "execution_count": 247,
     "metadata": {},
     "output_type": "execute_result"
    }
   ],
   "source": [
    "# Cloud providers\n",
    "if os.path.isfile('data/cloud-providers.xlsx'):\n",
    "    df_providers = pd.read_excel('data/cloud-providers.xlsx')\n",
    "print(df_providers)\n",
    "\n",
    "# CO2 emmissions\n",
    "if os.path.isfile('data/co2-emissions.xlsx'):\n",
    "    df_co2 = pd.read_excel('data/co2-emissions.xlsx')\n",
    "df_co2.head()"
   ]
  },
  {
   "cell_type": "markdown",
   "metadata": {},
   "source": [
    "TODO: Join the two data frames to add information about the energy sources that the could providers use. [<code>merge()</code>](https://pandas.pydata.org/docs/reference/api/pandas.DataFrame.merge.html) should be useful here.\n",
    "\n",
    " "
   ]
  },
  {
   "cell_type": "code",
   "execution_count": 248,
   "metadata": {},
   "outputs": [
    {
     "name": "stdout",
     "output_type": "stream",
     "text": [
      "         Date        Department ML Task ID          ML Method  \\\n",
      "0  2024-02-01         Marketing     Task_1                RNN   \n",
      "1  2024-02-01        Operations     Task_2  Linear Regression   \n",
      "2  2024-02-01               R&D     Task_3      Decision Tree   \n",
      "3  2024-02-01  Customer Support     Task_4      Decision Tree   \n",
      "4  2024-02-02           Finance     Task_5        Transformer   \n",
      "\n",
      "          Task Category  Model Complexity (Parameters)  \\\n",
      "0  Image Classification                   2.008306e+06   \n",
      "1            Regression                   1.053744e+03   \n",
      "2   Machine Translation                   1.098484e+03   \n",
      "3       Text Generation                   9.131620e+02   \n",
      "4            Clustering                   8.023062e+06   \n",
      "\n",
      "   Training Data Size (GB)  Training Duration (Hours) Hardware Used  \\\n",
      "0                44.885179                  11.437543           CPU   \n",
      "1                12.288902                   0.994852           TPU   \n",
      "2               127.561567                   1.903623           CPU   \n",
      "3                15.563152                   2.348526           CPU   \n",
      "4                 4.043882                  44.420819           TPU   \n",
      "\n",
      "   Energy Consumption (kWh)  CO2 Emissions (Kg) Cloud Provider Green Energy  \n",
      "0                150.145641           60.058256   EtherCompute        Green  \n",
      "1                 12.260144            4.904058      CloudTech      Unknown  \n",
      "2                 27.869589           11.147836      CloudTech      Unknown  \n",
      "3                 24.124306            9.649722   VirtualStack       Hybrid  \n",
      "4                559.037179          223.614871     DataNimbus      Unknown  \n"
     ]
    }
   ],
   "source": [
    "df_joined = df_co2.merge(df_providers, how='left', on='Cloud Provider')\n",
    "print(df_joined.head())"
   ]
  },
  {
   "cell_type": "markdown",
   "metadata": {},
   "source": [
    "TODO: Aggregate the data to department level. That is, each row should represents the aggregated values for each department. Notice that you do not need to aggregate each different column, only the ones instructed explicitly.\n",
    "\n",
    "**Tip**: use the [<code>groubpy</code>](https://pandas.pydata.org/pandas-docs/stable/reference/api/pandas.DataFrame.groupby.html)-method in combination with [<code>agg</code>](https://pandas.pydata.org/pandas-docs/stable/reference/api/pandas.DataFrame.agg.html)."
   ]
  },
  {
   "cell_type": "markdown",
   "metadata": {},
   "source": [
    "TODO: Calculate the total of CO2 emissions for each department"
   ]
  },
  {
   "cell_type": "code",
   "execution_count": 249,
   "metadata": {},
   "outputs": [
    {
     "name": "stdout",
     "output_type": "stream",
     "text": [
      "                  CO2 Emissions (Kg)\n",
      "Department                          \n",
      "Customer Support        12565.569898\n",
      "Finance                 13568.637182\n",
      "Human Resources         15256.236043\n",
      "Marketing               12821.756125\n",
      "Operations              15004.901708\n",
      "R&D                     14644.874294\n"
     ]
    }
   ],
   "source": [
    "df_co2_dep = df_joined.groupby('Department').agg({'CO2 Emissions (Kg)': 'sum'})\n",
    "#df_co2_dep.reset_index(inplace=True)\n",
    "print(df_co2_dep)"
   ]
  },
  {
   "cell_type": "markdown",
   "metadata": {},
   "source": [
    "TODO: Rename CO2 emission column to <code>co2_emissions_kg</code>   "
   ]
  },
  {
   "cell_type": "code",
   "execution_count": 250,
   "metadata": {},
   "outputs": [
    {
     "name": "stdout",
     "output_type": "stream",
     "text": [
      "                  co2_emissions_kg\n",
      "Department                        \n",
      "Customer Support      12565.569898\n",
      "Finance               13568.637182\n",
      "Human Resources       15256.236043\n",
      "Marketing             12821.756125\n",
      "Operations            15004.901708\n",
      "R&D                   14644.874294\n"
     ]
    }
   ],
   "source": [
    "df_co2_dep.rename(columns={'CO2 Emissions (Kg)': 'co2_emissions_kg'}, inplace=True)\n",
    "print(df_co2_dep)"
   ]
  },
  {
   "cell_type": "markdown",
   "metadata": {},
   "source": [
    "TODO: Create a function that picks the most common value among in a Pandas Series object"
   ]
  },
  {
   "cell_type": "code",
   "execution_count": 251,
   "metadata": {},
   "outputs": [],
   "source": [
    "def pick_most_frequent(values):\n",
    "    return values.mode()[0] if not values.mode().empty else None\n",
    "#pick_most_frequent(pd.Series(['A', 'B', 'B', 'A']))"
   ]
  },
  {
   "cell_type": "markdown",
   "metadata": {},
   "source": [
    "TODO: Pick the most frequent ML method for each department."
   ]
  },
  {
   "cell_type": "code",
   "execution_count": 252,
   "metadata": {},
   "outputs": [
    {
     "name": "stdout",
     "output_type": "stream",
     "text": [
      "                          ML Method\n",
      "Department                         \n",
      "Customer Support  Linear Regression\n",
      "Finance                         RNN\n",
      "Human Resources                 RNN\n",
      "Marketing             Decision Tree\n",
      "Operations              Transformer\n",
      "R&D                             RNN\n"
     ]
    }
   ],
   "source": [
    "df_ml = df_joined.groupby('Department').agg({'ML Method': pick_most_frequent})\n",
    "#df_ml.reset_index(inplace=True)\n",
    "print(df_ml)"
   ]
  },
  {
   "cell_type": "markdown",
   "metadata": {},
   "source": [
    "TODO: Make sure that the rows are sorted according to CO2 emissions in a way that the department with the largest emissions is first."
   ]
  },
  {
   "cell_type": "code",
   "execution_count": 253,
   "metadata": {},
   "outputs": [
    {
     "name": "stdout",
     "output_type": "stream",
     "text": [
      "                  co2_emissions_kg\n",
      "Department                        \n",
      "Human Resources       15256.236043\n",
      "Operations            15004.901708\n",
      "R&D                   14644.874294\n",
      "Finance               13568.637182\n",
      "Marketing             12821.756125\n",
      "Customer Support      12565.569898\n"
     ]
    }
   ],
   "source": [
    "df_co2_dep_sorted = df_co2_dep.sort_values(by='co2_emissions_kg', ascending=False)\n",
    "print(df_co2_dep_sorted)"
   ]
  },
  {
   "cell_type": "markdown",
   "metadata": {},
   "source": [
    "TODO: Calculate the CO2 emissions for each department in different Green Energy categories. That is, the resulting dataframe will have as many colums as there are values for Green Energy.\n",
    "\n",
    "Next, let's try to do something a bit more difficult. That is, calculate department CO2 emissions per energy type. \n",
    "\n",
    "One way to achieve this is to use pivot_table() function to create a separate dataframe with the new columns and join (using merge()) that to the main dataframe. We are sure there are even more clever ways. "
   ]
  },
  {
   "cell_type": "code",
   "execution_count": 254,
   "metadata": {},
   "outputs": [
    {
     "name": "stdout",
     "output_type": "stream",
     "text": [
      "Green Energy            Green       Hybrid      Unknown\n",
      "Department                                             \n",
      "Customer Support  1463.697220  1425.139532  9676.733146\n",
      "Finance           2991.539843  2427.085307  8150.012032\n",
      "Human Resources   2423.439560  3431.874604  9400.921879\n",
      "Marketing         2282.675323  2923.163567  7615.917236\n",
      "Operations        2253.368372  3779.599277  8971.934059\n",
      "R&D               3028.493500  2280.103568  9336.277226\n"
     ]
    }
   ],
   "source": [
    "#df_providers['Green Energy'].value_counts()\n",
    "\n",
    "df_co2_ge = df_joined.groupby([\"Department\", \"Green Energy\"]).agg({\"CO2 Emissions (Kg)\": \"sum\"}).reset_index()\n",
    "df_co2_ge_pivot = df_co2_ge.pivot(index=\"Department\", columns=\"Green Energy\", values=\"CO2 Emissions (Kg)\").fillna(0)\n",
    "#df_co2_ge_pivot.reset_index(inplace=True)\n",
    "print(df_co2_ge_pivot)"
   ]
  },
  {
   "cell_type": "markdown",
   "metadata": {},
   "source": [
    "TODO: Include the specified columns to the result dataframe, one per each energy type. "
   ]
  },
  {
   "cell_type": "code",
   "execution_count": 244,
   "metadata": {},
   "outputs": [
    {
     "name": "stdout",
     "output_type": "stream",
     "text": [
      "         Department  co2_emissions_kg\n",
      "0  Customer Support      12565.569898\n",
      "1           Finance      13568.637182\n",
      "2   Human Resources      15256.236043\n",
      "3         Marketing      12821.756125\n",
      "4        Operations      15004.901708\n",
      "5               R&D      14644.874294\n",
      "         Department  co2_emissions_kg\n",
      "0   Human Resources      15256.236043\n",
      "1        Operations      15004.901708\n",
      "2               R&D      14644.874294\n",
      "3           Finance      13568.637182\n",
      "4         Marketing      12821.756125\n",
      "5  Customer Support      12565.569898\n",
      "Green Energy        Department        Green       Hybrid      Unknown\n",
      "0             Customer Support  1463.697220  1425.139532  9676.733146\n",
      "1                      Finance  2991.539843  2427.085307  8150.012032\n",
      "2              Human Resources  2423.439560  3431.874604  9400.921879\n",
      "3                    Marketing  2282.675323  2923.163567  7615.917236\n",
      "4                   Operations  2253.368372  3779.599277  8971.934059\n",
      "5                          R&D  3028.493500  2280.103568  9336.277226\n"
     ]
    }
   ],
   "source": [
    "df_co2_dep.reset_index(inplace=True)\n",
    "print(df_co2_dep)\n",
    "df_co2_dep_sorted.reset_index(inplace=True)\n",
    "print(df_co2_dep_sorted)\n",
    "df_co2_ge_pivot.reset_index(inplace=True)\n",
    "print(df_co2_ge_pivot)"
   ]
  },
  {
   "cell_type": "code",
   "execution_count": null,
   "metadata": {},
   "outputs": [
    {
     "name": "stdout",
     "output_type": "stream",
     "text": [
      "                  co2_emissions_kg\n",
      "Department                        \n",
      "Human Resources       15256.236043\n",
      "Operations            15004.901708\n",
      "R&D                   14644.874294\n",
      "Finance               13568.637182\n",
      "Marketing             12821.756125\n",
      "Customer Support      12565.569898\n",
      "\n",
      "\n",
      "Green Energy            Green       Hybrid      Unknown\n",
      "Department                                             \n",
      "Customer Support  1463.697220  1425.139532  9676.733146\n",
      "Finance           2991.539843  2427.085307  8150.012032\n",
      "Human Resources   2423.439560  3431.874604  9400.921879\n",
      "Marketing         2282.675323  2923.163567  7615.917236\n",
      "Operations        2253.368372  3779.599277  8971.934059\n",
      "R&D               3028.493500  2280.103568  9336.277226\n",
      "\n",
      "\n",
      "                          ML Method\n",
      "Department                         \n",
      "Customer Support  Linear Regression\n",
      "Finance                         RNN\n",
      "Human Resources                 RNN\n",
      "Marketing             Decision Tree\n",
      "Operations              Transformer\n",
      "R&D                             RNN\n",
      "\n",
      "\n",
      "                  co2_emissions_kg        Green       Hybrid      Unknown  \\\n",
      "Department                                                                  \n",
      "Human Resources       15256.236043  2423.439560  3431.874604  9400.921879   \n",
      "Operations            15004.901708  2253.368372  3779.599277  8971.934059   \n",
      "R&D                   14644.874294  3028.493500  2280.103568  9336.277226   \n",
      "Finance               13568.637182  2991.539843  2427.085307  8150.012032   \n",
      "Marketing             12821.756125  2282.675323  2923.163567  7615.917236   \n",
      "Customer Support      12565.569898  1463.697220  1425.139532  9676.733146   \n",
      "\n",
      "                          ML Method  \n",
      "Department                           \n",
      "Human Resources                 RNN  \n",
      "Operations              Transformer  \n",
      "R&D                             RNN  \n",
      "Finance                         RNN  \n",
      "Marketing             Decision Tree  \n",
      "Customer Support  Linear Regression  \n",
      "\n",
      "\n"
     ]
    }
   ],
   "source": [
    "df_final = df_co2_dep_sorted.merge(df_co2_ge_pivot, on=\"Department\", how=\"outer\")\n",
    "df_final = df_final.merge(df_ml, on=\"Department\", how=\"outer\")\n",
    "df_final = df_final.sort_values(by='co2_emissions_kg', ascending=False)\n",
    "\n",
    "#print(df_co2_dep_sorted); print('\\n')\n",
    "#print(df_co2_ge_pivot); print('\\n')\n",
    "#print(df_ml); print('\\n')\n",
    "#print(df_final); print('\\n')"
   ]
  },
  {
   "cell_type": "code",
   "execution_count": 262,
   "metadata": {},
   "outputs": [
    {
     "name": "stdout",
     "output_type": "stream",
     "text": [
      "Folder 'results' already exists.\n"
     ]
    }
   ],
   "source": [
    "import os\n",
    "\n",
    "def ensure_folder_exists(folder_path):\n",
    "    if not os.path.exists(folder_path):\n",
    "        os.makedirs(folder_path)\n",
    "        print(f\"Folder '{folder_path}' created.\")\n",
    "    else:\n",
    "        print(f\"Folder '{folder_path}' already exists.\")\n",
    "\n",
    "ensure_folder_exists('results')"
   ]
  },
  {
   "cell_type": "markdown",
   "metadata": {},
   "source": [
    "TODO Finally, save the results."
   ]
  },
  {
   "cell_type": "code",
   "execution_count": 267,
   "metadata": {},
   "outputs": [],
   "source": [
    "# df_final.to_excel('results/department_co2.xlsx', index=False)\n",
    "df_final.to_pickle('results/department_co2.pkl')"
   ]
  }
 ],
 "metadata": {
  "kernelspec": {
   "display_name": "joda_env",
   "language": "python",
   "name": "python3"
  },
  "language_info": {
   "codemirror_mode": {
    "name": "ipython",
    "version": 3
   },
   "file_extension": ".py",
   "mimetype": "text/x-python",
   "name": "python",
   "nbconvert_exporter": "python",
   "pygments_lexer": "ipython3",
   "version": "3.12.9"
  }
 },
 "nbformat": 4,
 "nbformat_minor": 2
}
