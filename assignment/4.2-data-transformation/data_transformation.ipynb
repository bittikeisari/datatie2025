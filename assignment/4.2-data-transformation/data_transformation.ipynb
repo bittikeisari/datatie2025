{
 "cells": [
  {
   "cell_type": "code",
   "execution_count": null,
   "metadata": {},
   "outputs": [],
   "source": [
    "oaofiangoifajdgoijd"
   ]
  },
  {
   "cell_type": "markdown",
   "metadata": {},
   "source": [
    "## Data transformation\n",
    "\n",
    "This is the second automatically graded exercise for JODA. The objective here is to get our hands dirty with data. \n",
    "\n",
    "The context of this particular analysis is a fictional company that routinely runs different machine learning operations. \n",
    "\n",
    "We have generated a dataset that has the following columns or properties (to be engineered into features):\n",
    "\n",
    "* Date\n",
    "* Department\n",
    "* ML Task ID\n",
    "* ML Method\n",
    "* Task Category\n",
    "* Model Complexity (Parameters)\n",
    "* Training Data Size (GB)\n",
    "* Training Duration (Hours)\n",
    "* Hardware Used\n",
    "* Energy Consumption (kWh)\n",
    "* CO2 Emissions (Kg)\n",
    "* Cloud Provider\n",
    "\n",
    "Moreover, there is a secondary dataset that includes information about the energy sources for the different cloud providers:\n",
    "\n",
    "* Cloud Provider    \n",
    "* Green Energy\n"
   ]
  },
  {
   "cell_type": "markdown",
   "metadata": {},
   "source": [
    "TODO: Install the required packages using requirements.txt or individually\n",
    "\n",
    "TODO: Import the needed packages   "
   ]
  },
  {
   "cell_type": "code",
   "execution_count": 2,
   "metadata": {},
   "outputs": [],
   "source": [
    "import pandas as pd\n",
    "import os "
   ]
  },
  {
   "cell_type": "markdown",
   "metadata": {},
   "source": [
    "TODO: Read the two data files. **Please note that the data files will be available under the data folder when running the grader.**"
   ]
  },
  {
   "cell_type": "code",
   "execution_count": 3,
   "metadata": {},
   "outputs": [
    {
     "name": "stdout",
     "output_type": "stream",
     "text": [
      "True\n",
      "True\n"
     ]
    }
   ],
   "source": [
    "# Placeholder dataframes, replace with actual data\n",
    "\n",
    "# 'data/cloud-providers.xlsx'\n",
    "# 'data/co2-emissions.xlsx'\n",
    "\n",
    "print(os.path.isfile('data/cloud-providers.xlsx'))\n",
    "print(os.path.isfile('data/co2-emissions.xlsx'))\n",
    "\n",
    "df_co2 = pd.DataFrame()\n",
    "df_providers = pd.DataFrame([['Unknown']], columns=['Green Energy'])\n",
    "df_final = pd.DataFrame()"
   ]
  },
  {
   "cell_type": "markdown",
   "metadata": {},
   "source": [
    "TODO: Join the two data frames to add information about the energy sources that the could providers use. [<code>merge()</code>](https://pandas.pydata.org/docs/reference/api/pandas.DataFrame.merge.html) should be useful here.\n",
    "\n",
    " "
   ]
  },
  {
   "cell_type": "markdown",
   "metadata": {},
   "source": [
    "TODO: Aggregate the data to department level. That is, each row should represents the aggregated values for each department. Notice that you do not need to aggregate each different column, only the ones instructed explicitly.\n",
    "\n",
    "**Tip**: use the [<code>groubpy</code>](https://pandas.pydata.org/pandas-docs/stable/reference/api/pandas.DataFrame.groupby.html)-method in combination with [<code>agg</code>](https://pandas.pydata.org/pandas-docs/stable/reference/api/pandas.DataFrame.agg.html)."
   ]
  },
  {
   "cell_type": "markdown",
   "metadata": {},
   "source": [
    "TODO: Calculate the total of CO2 emissions for each department"
   ]
  },
  {
   "cell_type": "markdown",
   "metadata": {},
   "source": [
    "TODO: Rename CO2 emission column to <code>co2_emissions_kg</code>   "
   ]
  },
  {
   "cell_type": "markdown",
   "metadata": {},
   "source": []
  },
  {
   "cell_type": "markdown",
   "metadata": {},
   "source": [
    "TODO: Create a function that picks the most common value among in a Pandas Series object"
   ]
  },
  {
   "cell_type": "code",
   "execution_count": 23,
   "metadata": {},
   "outputs": [
    {
     "data": {
      "text/plain": [
       "'TODO'"
      ]
     },
     "execution_count": 23,
     "metadata": {},
     "output_type": "execute_result"
    }
   ],
   "source": [
    "\n",
    "def pick_most_frequent(values):\n",
    "    return 'TODO'\n",
    "\n",
    "pick_most_frequent(pd.Series(['A', 'B', 'B', 'C']))"
   ]
  },
  {
   "cell_type": "markdown",
   "metadata": {},
   "source": [
    "TODO: Pick the most frequent ML method for each department."
   ]
  },
  {
   "cell_type": "markdown",
   "metadata": {},
   "source": []
  },
  {
   "cell_type": "code",
   "execution_count": null,
   "metadata": {},
   "outputs": [],
   "source": []
  },
  {
   "cell_type": "markdown",
   "metadata": {},
   "source": [
    "TODO: Make sure that the rows are sorted according to CO2 emissions in a way that the department with the largest emissions is first."
   ]
  },
  {
   "cell_type": "markdown",
   "metadata": {},
   "source": [
    "TODO: Calculate the CO2 emissions for each department in different Green Energy categories. That is, the resulting dataframe will have as many colums as there are values for Green Energy."
   ]
  },
  {
   "cell_type": "markdown",
   "metadata": {},
   "source": [
    "Next, let's try to do something a bit more difficult. That is, calculate department CO2 emissions per energy type. \n",
    "\n",
    "One way to achieve this is to use pivot_table() function to create a separate dataframe with the new columns and join (using merge()) that to the main dataframe. We are sure there are even more clever ways. \n",
    "\n",
    "TODO: Include the specified columns to the result dataframe, one per each energy type. "
   ]
  },
  {
   "cell_type": "code",
   "execution_count": 24,
   "metadata": {},
   "outputs": [
    {
     "data": {
      "text/plain": [
       "Green Energy\n",
       "Unknown    1\n",
       "Name: count, dtype: int64"
      ]
     },
     "execution_count": 24,
     "metadata": {},
     "output_type": "execute_result"
    }
   ],
   "source": [
    "df_providers['Green Energy'].value_counts()"
   ]
  },
  {
   "cell_type": "code",
   "execution_count": 25,
   "metadata": {},
   "outputs": [
    {
     "name": "stdout",
     "output_type": "stream",
     "text": [
      "Folder 'results' already exists.\n"
     ]
    }
   ],
   "source": [
    "import os\n",
    "\n",
    "def ensure_folder_exists(folder_path):\n",
    "    if not os.path.exists(folder_path):\n",
    "        os.makedirs(folder_path)\n",
    "        print(f\"Folder '{folder_path}' created.\")\n",
    "    else:\n",
    "        print(f\"Folder '{folder_path}' already exists.\")\n",
    "\n",
    "ensure_folder_exists('results')"
   ]
  },
  {
   "cell_type": "markdown",
   "metadata": {},
   "source": [
    "TODO Finally, save the results."
   ]
  },
  {
   "cell_type": "code",
   "execution_count": 26,
   "metadata": {},
   "outputs": [],
   "source": [
    "# df_final.to_excel('results/department_co2.xlsx', index=False)\n",
    "df_final.to_pickle('results/department_co2.pkl')"
   ]
  }
 ],
 "metadata": {
  "kernelspec": {
   "display_name": ".venv",
   "language": "python",
   "name": "python3"
  },
  "language_info": {
   "codemirror_mode": {
    "name": "ipython",
    "version": 3
   },
   "file_extension": ".py",
   "mimetype": "text/x-python",
   "name": "python",
   "nbconvert_exporter": "python",
   "pygments_lexer": "ipython3",
   "version": "3.8.5"
  }
 },
 "nbformat": 4,
 "nbformat_minor": 2
}
